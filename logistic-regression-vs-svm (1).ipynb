{
 "cells": [
  {
   "cell_type": "code",
   "execution_count": 1,
   "metadata": {},
   "outputs": [],
   "source": [
    "import numpy as np # linear algebra\n",
    "import pandas as pd # data processing, CSV file I/O (e.g. pd.read_csv)\n",
    "import matplotlib.pyplot as plt\n",
    "import seaborn as sns\n",
    "from sklearn.metrics import classification_report\n",
    "from sklearn.metrics import mean_squared_error as mse\n",
    "from sklearn.metrics import confusion_matrix,accuracy_score\n",
    "from sklearn.model_selection import train_test_split,GridSearchCV"
   ]
  },
  {
   "cell_type": "code",
   "execution_count": 2,
   "metadata": {
    "execution": {
     "iopub.execute_input": "2021-10-24T18:39:46.335528Z",
     "iopub.status.busy": "2021-10-24T18:39:46.335275Z",
     "iopub.status.idle": "2021-10-24T18:39:46.353065Z",
     "shell.execute_reply": "2021-10-24T18:39:46.352238Z",
     "shell.execute_reply.started": "2021-10-24T18:39:46.335504Z"
    }
   },
   "outputs": [],
   "source": [
    "X_full = pd.read_csv('diabetes.csv')"
   ]
  },
  {
   "cell_type": "code",
   "execution_count": 3,
   "metadata": {
    "execution": {
     "iopub.execute_input": "2021-10-24T18:39:46.356334Z",
     "iopub.status.busy": "2021-10-24T18:39:46.356013Z",
     "iopub.status.idle": "2021-10-24T18:39:46.366470Z",
     "shell.execute_reply": "2021-10-24T18:39:46.365752Z",
     "shell.execute_reply.started": "2021-10-24T18:39:46.356303Z"
    }
   },
   "outputs": [
    {
     "data": {
      "text/plain": [
       "(768, 9)"
      ]
     },
     "execution_count": 3,
     "metadata": {},
     "output_type": "execute_result"
    }
   ],
   "source": [
    "X_full.shape"
   ]
  },
  {
   "cell_type": "markdown",
   "metadata": {},
   "source": [
    "768 samples with 9 features"
   ]
  },
  {
   "cell_type": "code",
   "execution_count": 4,
   "metadata": {
    "execution": {
     "iopub.execute_input": "2021-10-24T18:39:46.368264Z",
     "iopub.status.busy": "2021-10-24T18:39:46.367896Z",
     "iopub.status.idle": "2021-10-24T18:39:46.403433Z",
     "shell.execute_reply": "2021-10-24T18:39:46.402509Z",
     "shell.execute_reply.started": "2021-10-24T18:39:46.368155Z"
    }
   },
   "outputs": [],
   "source": [
    "#X_full.info()"
   ]
  },
  {
   "cell_type": "markdown",
   "metadata": {},
   "source": [
    "there is no catigorical features or missing values"
   ]
  },
  {
   "cell_type": "code",
   "execution_count": 5,
   "metadata": {
    "execution": {
     "iopub.execute_input": "2021-10-24T18:39:46.405026Z",
     "iopub.status.busy": "2021-10-24T18:39:46.404558Z",
     "iopub.status.idle": "2021-10-24T18:39:46.448427Z",
     "shell.execute_reply": "2021-10-24T18:39:46.447332Z",
     "shell.execute_reply.started": "2021-10-24T18:39:46.404981Z"
    }
   },
   "outputs": [],
   "source": [
    "#X_full.describe()"
   ]
  },
  {
   "cell_type": "markdown",
   "metadata": {},
   "source": [
    "['Pregnancies',Glucose',BloodPressure','SkinThickness','Insulin','BMI'] canot have 0 as value but the min is 0 so replace it with the mdian value"
   ]
  },
  {
   "cell_type": "code",
   "execution_count": 6,
   "metadata": {
    "execution": {
     "iopub.execute_input": "2021-10-24T18:39:46.449853Z",
     "iopub.status.busy": "2021-10-24T18:39:46.449581Z",
     "iopub.status.idle": "2021-10-24T18:39:46.477423Z",
     "shell.execute_reply": "2021-10-24T18:39:46.476686Z",
     "shell.execute_reply.started": "2021-10-24T18:39:46.449827Z"
    }
   },
   "outputs": [],
   "source": [
    "# print('Number of rows missing Glucose: {0}'.format(len(X_full.loc[X_full['Glucose'] == 0])))\n",
    "# print('Number of rows missing Blood Pressure: {0}'.format(len(X_full.loc[X_full['BloodPressure'] == 0])))\n",
    "# print('Number of rows missing Insulin: {0}'.format(len(X_full.loc[X_full['Insulin'] == 0])))\n",
    "# print('Number of rows missing BMI: {0}'.format(len(X_full.loc[X_full['BMI'] == 0])))\n",
    "# print('Number of rows missing Skin Thickness: {0}'.format(len(X_full.loc[X_full['SkinThickness'] == 0])))\n",
    "# print('Number of rows missing Age: {0}'.format(len(X_full.loc[X_full['Age'] == 0])))"
   ]
  },
  {
   "cell_type": "code",
   "execution_count": 7,
   "metadata": {
    "execution": {
     "iopub.execute_input": "2021-10-24T18:39:46.478762Z",
     "iopub.status.busy": "2021-10-24T18:39:46.478370Z",
     "iopub.status.idle": "2021-10-24T18:39:46.488462Z",
     "shell.execute_reply": "2021-10-24T18:39:46.487601Z",
     "shell.execute_reply.started": "2021-10-24T18:39:46.478722Z"
    }
   },
   "outputs": [],
   "source": [
    "x = X_full['Glucose'].median()\n",
    "X_full['Glucose'].replace(0,x,inplace=True)\n",
    "x = X_full['BloodPressure'].median()\n",
    "X_full['BloodPressure'].replace(0,x,inplace=True)\n",
    "x = X_full['Insulin'].median()\n",
    "X_full['Insulin'].replace(0,x,inplace=True)\n",
    "x = X_full['BMI'].median()\n",
    "X_full['BMI'].replace(0,x,inplace=True)\n",
    "x = X_full['SkinThickness'].median()\n",
    "X_full['SkinThickness'].replace(0,x,inplace=True)"
   ]
  },
  {
   "cell_type": "code",
   "execution_count": 8,
   "metadata": {
    "execution": {
     "iopub.execute_input": "2021-10-24T18:39:46.491089Z",
     "iopub.status.busy": "2021-10-24T18:39:46.490594Z",
     "iopub.status.idle": "2021-10-24T18:39:47.285920Z",
     "shell.execute_reply": "2021-10-24T18:39:47.284821Z",
     "shell.execute_reply.started": "2021-10-24T18:39:46.491043Z"
    }
   },
   "outputs": [],
   "source": [
    "# figure = plt.figure(figsize =(10,10))\n",
    "# sns.heatmap(X_full.corr(),annot=True,cmap=\"YlGnBu\")"
   ]
  },
  {
   "cell_type": "markdown",
   "metadata": {},
   "source": [
    "outcome is highly correlated with ['Glucose','BMI','Age','Pregriancies']"
   ]
  },
  {
   "cell_type": "code",
   "execution_count": 9,
   "metadata": {
    "execution": {
     "iopub.execute_input": "2021-10-24T18:39:47.288580Z",
     "iopub.status.busy": "2021-10-24T18:39:47.288173Z",
     "iopub.status.idle": "2021-10-24T18:39:47.297270Z",
     "shell.execute_reply": "2021-10-24T18:39:47.296125Z",
     "shell.execute_reply.started": "2021-10-24T18:39:47.288535Z"
    }
   },
   "outputs": [
    {
     "data": {
      "text/plain": [
       "0    500\n",
       "1    268\n",
       "Name: Outcome, dtype: int64"
      ]
     },
     "execution_count": 9,
     "metadata": {},
     "output_type": "execute_result"
    }
   ],
   "source": [
    "X_full['Outcome'].value_counts()"
   ]
  },
  {
   "cell_type": "markdown",
   "metadata": {},
   "source": [
    "will have to make statified sampling to over come the difference between count of 0 and 1 samples"
   ]
  },
  {
   "cell_type": "code",
   "execution_count": 10,
   "metadata": {
    "execution": {
     "iopub.execute_input": "2021-10-24T18:39:47.299276Z",
     "iopub.status.busy": "2021-10-24T18:39:47.298954Z",
     "iopub.status.idle": "2021-10-24T18:39:47.312230Z",
     "shell.execute_reply": "2021-10-24T18:39:47.311215Z",
     "shell.execute_reply.started": "2021-10-24T18:39:47.299246Z"
    }
   },
   "outputs": [
    {
     "data": {
      "text/plain": [
       "Pregnancies                 0\n",
       "Glucose                     0\n",
       "BloodPressure               0\n",
       "SkinThickness               0\n",
       "Insulin                     0\n",
       "BMI                         0\n",
       "DiabetesPedigreeFunction    0\n",
       "Age                         0\n",
       "Outcome                     0\n",
       "dtype: int64"
      ]
     },
     "execution_count": 10,
     "metadata": {},
     "output_type": "execute_result"
    }
   ],
   "source": [
    "X_full.isna().sum(axis=0)"
   ]
  },
  {
   "cell_type": "markdown",
   "metadata": {},
   "source": [
    "there is not a number in the data"
   ]
  },
  {
   "cell_type": "code",
   "execution_count": 11,
   "metadata": {
    "execution": {
     "iopub.execute_input": "2021-10-24T18:39:47.314243Z",
     "iopub.status.busy": "2021-10-24T18:39:47.313655Z",
     "iopub.status.idle": "2021-10-24T18:39:47.323436Z",
     "shell.execute_reply": "2021-10-24T18:39:47.322658Z",
     "shell.execute_reply.started": "2021-10-24T18:39:47.314195Z"
    }
   },
   "outputs": [],
   "source": [
    "# len(X_full['Age'].unique())"
   ]
  },
  {
   "cell_type": "code",
   "execution_count": 12,
   "metadata": {
    "execution": {
     "iopub.execute_input": "2021-10-24T18:39:47.325516Z",
     "iopub.status.busy": "2021-10-24T18:39:47.324901Z",
     "iopub.status.idle": "2021-10-24T18:39:47.619212Z",
     "shell.execute_reply": "2021-10-24T18:39:47.618106Z",
     "shell.execute_reply.started": "2021-10-24T18:39:47.325467Z"
    }
   },
   "outputs": [],
   "source": [
    "# figure = plt.figure(figsize =(6,6))\n",
    "# ax = sns.histplot(x=\"Age\",hue =\"Outcome\" ,data=X_full,multiple=\"dodge\", shrink=.8)"
   ]
  },
  {
   "cell_type": "code",
   "execution_count": 13,
   "metadata": {
    "execution": {
     "iopub.execute_input": "2021-10-24T18:39:47.620725Z",
     "iopub.status.busy": "2021-10-24T18:39:47.620417Z",
     "iopub.status.idle": "2021-10-24T18:39:48.023139Z",
     "shell.execute_reply": "2021-10-24T18:39:48.021910Z",
     "shell.execute_reply.started": "2021-10-24T18:39:47.620679Z"
    }
   },
   "outputs": [],
   "source": [
    "# plt.hist(X_full['BMI'],bins=100)\n",
    "# plt.show()"
   ]
  },
  {
   "cell_type": "markdown",
   "metadata": {},
   "source": [
    "## If woman BMI is:\n",
    "\n",
    "1. below 18.5 – she is in the underweight range -> 0\n",
    "1. between 18.5 and 24.9 – she is in the healthy weight range -> 1\n",
    "1. between 25 and 29.9 – she is in the overweight range -> 2\n",
    "1. between 30 and 39.9 – she is in the obese range -> 3\n",
    "1. other -> 4"
   ]
  },
  {
   "cell_type": "code",
   "execution_count": 14,
   "metadata": {},
   "outputs": [],
   "source": [
    "#![image.png](attachment:c731f680-8300-43bf-8f20-c1b68f09ee63.png)"
   ]
  },
  {
   "cell_type": "code",
   "execution_count": 15,
   "metadata": {
    "execution": {
     "iopub.execute_input": "2021-10-24T18:39:48.024958Z",
     "iopub.status.busy": "2021-10-24T18:39:48.024505Z",
     "iopub.status.idle": "2021-10-24T18:39:48.032923Z",
     "shell.execute_reply": "2021-10-24T18:39:48.031843Z",
     "shell.execute_reply.started": "2021-10-24T18:39:48.024912Z"
    }
   },
   "outputs": [],
   "source": [
    "X_full['BMI_levels']=pd.cut(X_full['BMI'],bins=[0, 18.5, 24.99, 29.99,34.99,39.99,100],labels=[0,1,2,3,4,5])"
   ]
  },
  {
   "cell_type": "code",
   "execution_count": 16,
   "metadata": {
    "execution": {
     "iopub.execute_input": "2021-10-24T18:39:48.034814Z",
     "iopub.status.busy": "2021-10-24T18:39:48.034393Z",
     "iopub.status.idle": "2021-10-24T18:39:48.174362Z",
     "shell.execute_reply": "2021-10-24T18:39:48.173443Z",
     "shell.execute_reply.started": "2021-10-24T18:39:48.034769Z"
    }
   },
   "outputs": [],
   "source": [
    "# plt.hist(X_full['BMI_levels'])\n",
    "# plt.show()"
   ]
  },
  {
   "cell_type": "code",
   "execution_count": 17,
   "metadata": {
    "execution": {
     "iopub.execute_input": "2021-10-24T18:39:48.176275Z",
     "iopub.status.busy": "2021-10-24T18:39:48.175885Z",
     "iopub.status.idle": "2021-10-24T18:39:48.433796Z",
     "shell.execute_reply": "2021-10-24T18:39:48.432795Z",
     "shell.execute_reply.started": "2021-10-24T18:39:48.176240Z"
    }
   },
   "outputs": [],
   "source": [
    "# figure = plt.figure(figsize =(6,6))\n",
    "# ax = sns.histplot(x = 'BMI_levels',hue =\"Outcome\",data=X_full ,multiple=\"dodge\", shrink=.8 )"
   ]
  },
  {
   "cell_type": "code",
   "execution_count": 18,
   "metadata": {
    "execution": {
     "iopub.execute_input": "2021-10-24T18:39:48.435245Z",
     "iopub.status.busy": "2021-10-24T18:39:48.434985Z",
     "iopub.status.idle": "2021-10-24T18:39:48.712661Z",
     "shell.execute_reply": "2021-10-24T18:39:48.711737Z",
     "shell.execute_reply.started": "2021-10-24T18:39:48.435212Z"
    }
   },
   "outputs": [],
   "source": [
    "# plt.hist(X_full['Glucose'],bins=100)\n",
    "# plt.show()"
   ]
  },
  {
   "cell_type": "markdown",
   "metadata": {},
   "source": [
    "## For a 2 hour GTT\"glucose tolerance test\" with 75 g intake\n",
    "1. a glucose level below 7.8 mmol/L (140 mg/dL) is normal\n",
    "1. Blood plasma glucose between 7.8 mmol/L (140 mg/dL) and 11.1 mmol/L (200 mg/dL) indicate \"impaired glucose tolerance\"\n",
    "1. and levels at or above 11.1 mmol/L at 2 hours confirm a diagnosis of diabetes"
   ]
  },
  {
   "cell_type": "code",
   "execution_count": 19,
   "metadata": {
    "execution": {
     "iopub.execute_input": "2021-10-24T18:39:48.714239Z",
     "iopub.status.busy": "2021-10-24T18:39:48.713957Z",
     "iopub.status.idle": "2021-10-24T18:39:48.721535Z",
     "shell.execute_reply": "2021-10-24T18:39:48.720749Z",
     "shell.execute_reply.started": "2021-10-24T18:39:48.714210Z"
    }
   },
   "outputs": [],
   "source": [
    "X_full['Glucose_levels']=pd.cut(X_full['Glucose'],bins=[0, 140 , 200],labels=[0,1])"
   ]
  },
  {
   "cell_type": "code",
   "execution_count": 20,
   "metadata": {
    "execution": {
     "iopub.execute_input": "2021-10-24T18:39:48.723048Z",
     "iopub.status.busy": "2021-10-24T18:39:48.722604Z",
     "iopub.status.idle": "2021-10-24T18:39:48.935857Z",
     "shell.execute_reply": "2021-10-24T18:39:48.934906Z",
     "shell.execute_reply.started": "2021-10-24T18:39:48.723010Z"
    }
   },
   "outputs": [],
   "source": [
    "# figure = plt.figure(figsize =(6,6))\n",
    "# ax = sns.histplot(x = 'Glucose_levels',hue =\"Outcome\",data=X_full,multiple=\"dodge\", shrink=.8 )"
   ]
  },
  {
   "cell_type": "code",
   "execution_count": 21,
   "metadata": {
    "execution": {
     "iopub.execute_input": "2021-10-24T18:39:48.937419Z",
     "iopub.status.busy": "2021-10-24T18:39:48.937127Z",
     "iopub.status.idle": "2021-10-24T18:39:48.952315Z",
     "shell.execute_reply": "2021-10-24T18:39:48.951681Z",
     "shell.execute_reply.started": "2021-10-24T18:39:48.937389Z"
    }
   },
   "outputs": [
    {
     "data": {
      "text/html": [
       "<div>\n",
       "<style scoped>\n",
       "    .dataframe tbody tr th:only-of-type {\n",
       "        vertical-align: middle;\n",
       "    }\n",
       "\n",
       "    .dataframe tbody tr th {\n",
       "        vertical-align: top;\n",
       "    }\n",
       "\n",
       "    .dataframe thead th {\n",
       "        text-align: right;\n",
       "    }\n",
       "</style>\n",
       "<table border=\"1\" class=\"dataframe\">\n",
       "  <thead>\n",
       "    <tr style=\"text-align: right;\">\n",
       "      <th></th>\n",
       "      <th>Pregnancies</th>\n",
       "      <th>Glucose</th>\n",
       "      <th>BloodPressure</th>\n",
       "      <th>SkinThickness</th>\n",
       "      <th>Insulin</th>\n",
       "      <th>BMI</th>\n",
       "      <th>DiabetesPedigreeFunction</th>\n",
       "      <th>Age</th>\n",
       "      <th>Outcome</th>\n",
       "      <th>BMI_levels</th>\n",
       "      <th>Glucose_levels</th>\n",
       "    </tr>\n",
       "  </thead>\n",
       "  <tbody>\n",
       "    <tr>\n",
       "      <th>0</th>\n",
       "      <td>6</td>\n",
       "      <td>148</td>\n",
       "      <td>72</td>\n",
       "      <td>35</td>\n",
       "      <td>30.5</td>\n",
       "      <td>33.6</td>\n",
       "      <td>0.627</td>\n",
       "      <td>50</td>\n",
       "      <td>1</td>\n",
       "      <td>3</td>\n",
       "      <td>1</td>\n",
       "    </tr>\n",
       "    <tr>\n",
       "      <th>1</th>\n",
       "      <td>1</td>\n",
       "      <td>85</td>\n",
       "      <td>66</td>\n",
       "      <td>29</td>\n",
       "      <td>30.5</td>\n",
       "      <td>26.6</td>\n",
       "      <td>0.351</td>\n",
       "      <td>31</td>\n",
       "      <td>0</td>\n",
       "      <td>2</td>\n",
       "      <td>0</td>\n",
       "    </tr>\n",
       "    <tr>\n",
       "      <th>2</th>\n",
       "      <td>8</td>\n",
       "      <td>183</td>\n",
       "      <td>64</td>\n",
       "      <td>23</td>\n",
       "      <td>30.5</td>\n",
       "      <td>23.3</td>\n",
       "      <td>0.672</td>\n",
       "      <td>32</td>\n",
       "      <td>1</td>\n",
       "      <td>1</td>\n",
       "      <td>1</td>\n",
       "    </tr>\n",
       "    <tr>\n",
       "      <th>3</th>\n",
       "      <td>1</td>\n",
       "      <td>89</td>\n",
       "      <td>66</td>\n",
       "      <td>23</td>\n",
       "      <td>94.0</td>\n",
       "      <td>28.1</td>\n",
       "      <td>0.167</td>\n",
       "      <td>21</td>\n",
       "      <td>0</td>\n",
       "      <td>2</td>\n",
       "      <td>0</td>\n",
       "    </tr>\n",
       "    <tr>\n",
       "      <th>4</th>\n",
       "      <td>0</td>\n",
       "      <td>137</td>\n",
       "      <td>40</td>\n",
       "      <td>35</td>\n",
       "      <td>168.0</td>\n",
       "      <td>43.1</td>\n",
       "      <td>2.288</td>\n",
       "      <td>33</td>\n",
       "      <td>1</td>\n",
       "      <td>5</td>\n",
       "      <td>0</td>\n",
       "    </tr>\n",
       "  </tbody>\n",
       "</table>\n",
       "</div>"
      ],
      "text/plain": [
       "   Pregnancies  Glucose  BloodPressure  SkinThickness  Insulin   BMI  \\\n",
       "0            6      148             72             35     30.5  33.6   \n",
       "1            1       85             66             29     30.5  26.6   \n",
       "2            8      183             64             23     30.5  23.3   \n",
       "3            1       89             66             23     94.0  28.1   \n",
       "4            0      137             40             35    168.0  43.1   \n",
       "\n",
       "   DiabetesPedigreeFunction  Age  Outcome BMI_levels Glucose_levels  \n",
       "0                     0.627   50        1          3              1  \n",
       "1                     0.351   31        0          2              0  \n",
       "2                     0.672   32        1          1              1  \n",
       "3                     0.167   21        0          2              0  \n",
       "4                     2.288   33        1          5              0  "
      ]
     },
     "execution_count": 21,
     "metadata": {},
     "output_type": "execute_result"
    }
   ],
   "source": [
    "X_full.head()"
   ]
  },
  {
   "cell_type": "code",
   "execution_count": 22,
   "metadata": {
    "execution": {
     "iopub.execute_input": "2021-10-24T18:39:48.953541Z",
     "iopub.status.busy": "2021-10-24T18:39:48.953181Z",
     "iopub.status.idle": "2021-10-24T18:39:48.965223Z",
     "shell.execute_reply": "2021-10-24T18:39:48.964477Z",
     "shell.execute_reply.started": "2021-10-24T18:39:48.953515Z"
    }
   },
   "outputs": [],
   "source": [
    "X_org = X_full.drop(columns=['BMI_levels','Glucose_levels'])"
   ]
  },
  {
   "cell_type": "markdown",
   "metadata": {},
   "source": [
    "### Splitting the dataset for training & testing and standardizing the data¶\n"
   ]
  },
  {
   "cell_type": "code",
   "execution_count": 23,
   "metadata": {
    "execution": {
     "iopub.execute_input": "2021-10-24T18:39:48.966547Z",
     "iopub.status.busy": "2021-10-24T18:39:48.966142Z",
     "iopub.status.idle": "2021-10-24T18:39:48.984434Z",
     "shell.execute_reply": "2021-10-24T18:39:48.983400Z",
     "shell.execute_reply.started": "2021-10-24T18:39:48.966518Z"
    }
   },
   "outputs": [],
   "source": [
    "Y = X_full['Outcome']\n",
    "X = X_full.drop(columns=['Outcome'])\n",
    "X_train,X_test,y_train,y_test = train_test_split(X,Y,test_size=0.2,random_state=42,stratify = Y)"
   ]
  },
  {
   "cell_type": "code",
   "execution_count": 24,
   "metadata": {
    "execution": {
     "iopub.execute_input": "2021-10-24T18:39:48.987671Z",
     "iopub.status.busy": "2021-10-24T18:39:48.987265Z",
     "iopub.status.idle": "2021-10-24T18:39:49.003147Z",
     "shell.execute_reply": "2021-10-24T18:39:49.002123Z",
     "shell.execute_reply.started": "2021-10-24T18:39:48.987641Z"
    }
   },
   "outputs": [],
   "source": [
    "from sklearn.preprocessing import StandardScaler\n",
    "scaler = StandardScaler()\n",
    "X_train_scaled = scaler.fit_transform(X_train)\n",
    "X_test_scaled = scaler.transform(X_test)"
   ]
  },
  {
   "cell_type": "markdown",
   "metadata": {},
   "source": [
    "## cross validation over multibli models"
   ]
  },
  {
   "cell_type": "markdown",
   "metadata": {},
   "source": [
    "### SVM"
   ]
  },
  {
   "cell_type": "code",
   "execution_count": 25,
   "metadata": {
    "execution": {
     "iopub.execute_input": "2021-10-24T18:39:49.004942Z",
     "iopub.status.busy": "2021-10-24T18:39:49.004497Z",
     "iopub.status.idle": "2021-10-24T18:39:49.102729Z",
     "shell.execute_reply": "2021-10-24T18:39:49.101648Z",
     "shell.execute_reply.started": "2021-10-24T18:39:49.004908Z"
    }
   },
   "outputs": [
    {
     "name": "stdout",
     "output_type": "stream",
     "text": [
      "Our Accuracy is:  0.7142857142857143\n",
      "0.7142857142857143\n"
     ]
    }
   ],
   "source": [
    "from sklearn import svm\n",
    "support_vector_classifier = svm.SVC(kernel=\"linear\",).fit(X_train_scaled,y_train)\n",
    "y_pred = support_vector_classifier.predict(X_test_scaled)\n",
    "cm = confusion_matrix(y_test,y_pred)\n",
    "print(\"Our Accuracy is: \", (cm[0][0]+cm[1][1])/(cm[0][0]+cm[1][1]+cm[0][1]+cm[1][0]))\n",
    "print(accuracy_score(y_test,y_pred))"
   ]
  },
  {
   "cell_type": "code",
   "execution_count": 26,
   "metadata": {
    "execution": {
     "iopub.execute_input": "2021-10-24T18:39:49.104600Z",
     "iopub.status.busy": "2021-10-24T18:39:49.103922Z",
     "iopub.status.idle": "2021-10-24T18:39:49.114867Z",
     "shell.execute_reply": "2021-10-24T18:39:49.113977Z",
     "shell.execute_reply.started": "2021-10-24T18:39:49.104543Z"
    }
   },
   "outputs": [
    {
     "name": "stdout",
     "output_type": "stream",
     "text": [
      "              precision    recall  f1-score   support\n",
      "\n",
      "           0       0.75      0.85      0.79       100\n",
      "           1       0.62      0.46      0.53        54\n",
      "\n",
      "    accuracy                           0.71       154\n",
      "   macro avg       0.69      0.66      0.66       154\n",
      "weighted avg       0.70      0.71      0.70       154\n",
      "\n"
     ]
    }
   ],
   "source": [
    "print(classification_report(y_test,y_pred))"
   ]
  },
  {
   "cell_type": "code",
   "execution_count": 27,
   "metadata": {
    "execution": {
     "iopub.execute_input": "2021-10-24T18:39:49.139986Z",
     "iopub.status.busy": "2021-10-24T18:39:49.139627Z",
     "iopub.status.idle": "2021-10-24T18:39:57.464605Z",
     "shell.execute_reply": "2021-10-24T18:39:57.463549Z",
     "shell.execute_reply.started": "2021-10-24T18:39:49.139954Z"
    }
   },
   "outputs": [
    {
     "name": "stdout",
     "output_type": "stream",
     "text": [
      "0.7671949760765551\n",
      "{'C': 2}\n"
     ]
    }
   ],
   "source": [
    "svm_params ={\"C\":np.arange(1,20)}\n",
    "svms = svm.SVC(kernel=\"linear\")\n",
    "svm_cv = GridSearchCV(svms,svm_params,cv=8)\n",
    "svm_cv.fit(X_train_scaled,y_train)\n",
    "print(svm_cv.best_score_)\n",
    "print(svm_cv.best_params_)"
   ]
  },
  {
   "cell_type": "markdown",
   "metadata": {},
   "source": [
    "### LogisticRegression"
   ]
  },
  {
   "cell_type": "code",
   "execution_count": 28,
   "metadata": {
    "execution": {
     "iopub.execute_input": "2021-10-24T18:39:57.508907Z",
     "iopub.status.busy": "2021-10-24T18:39:57.508352Z",
     "iopub.status.idle": "2021-10-24T18:39:57.654455Z",
     "shell.execute_reply": "2021-10-24T18:39:57.653492Z",
     "shell.execute_reply.started": "2021-10-24T18:39:57.508873Z"
    }
   },
   "outputs": [
    {
     "name": "stdout",
     "output_type": "stream",
     "text": [
      "Our Accuracy is:  0.7142857142857143\n",
      "0.7142857142857143\n"
     ]
    }
   ],
   "source": [
    "from sklearn.linear_model import LogisticRegression\n",
    "LRmodel = LogisticRegression(random_state=0).fit(X_train_scaled,y_train)\n",
    "LRy_pred = LRmodel.predict(X_test_scaled)\n",
    "LRcm = confusion_matrix(y_test,LRy_pred)\n",
    "print(\"Our Accuracy is: \", (LRcm[0][0]+LRcm[1][1])/(LRcm[0][0]+LRcm[1][1]+LRcm[0][1]+LRcm[1][0]))\n",
    "print(accuracy_score(y_test,LRy_pred))"
   ]
  },
  {
   "cell_type": "code",
   "execution_count": 29,
   "metadata": {
    "execution": {
     "iopub.execute_input": "2021-10-24T18:39:57.656074Z",
     "iopub.status.busy": "2021-10-24T18:39:57.655767Z",
     "iopub.status.idle": "2021-10-24T18:39:57.666450Z",
     "shell.execute_reply": "2021-10-24T18:39:57.665582Z",
     "shell.execute_reply.started": "2021-10-24T18:39:57.656046Z"
    }
   },
   "outputs": [
    {
     "name": "stdout",
     "output_type": "stream",
     "text": [
      "              precision    recall  f1-score   support\n",
      "\n",
      "           0       0.76      0.82      0.79       100\n",
      "           1       0.61      0.52      0.56        54\n",
      "\n",
      "    accuracy                           0.71       154\n",
      "   macro avg       0.68      0.67      0.67       154\n",
      "weighted avg       0.71      0.71      0.71       154\n",
      "\n"
     ]
    }
   ],
   "source": [
    "print(classification_report(y_test,LRy_pred))"
   ]
  },
  {
   "cell_type": "code",
   "execution_count": 30,
   "metadata": {
    "execution": {
     "iopub.execute_input": "2021-10-24T18:39:57.668015Z",
     "iopub.status.busy": "2021-10-24T18:39:57.667604Z",
     "iopub.status.idle": "2021-10-24T18:39:58.790689Z",
     "shell.execute_reply": "2021-10-24T18:39:58.789616Z",
     "shell.execute_reply.started": "2021-10-24T18:39:57.667983Z"
    }
   },
   "outputs": [
    {
     "name": "stdout",
     "output_type": "stream",
     "text": [
      "0.7916097060833903\n",
      "{'C': 3}\n"
     ]
    }
   ],
   "source": [
    "LR_params ={\"C\":np.arange(1,20)}\n",
    "LRs = LogisticRegression(random_state=0)\n",
    "LR_cv = GridSearchCV(LRs,LR_params,cv=8)\n",
    "LR_cv.fit(X_train_scaled,y_train)\n",
    "print(LR_cv.best_score_)\n",
    "print(LR_cv.best_params_)"
   ]
  },
  {
   "cell_type": "markdown",
   "metadata": {},
   "source": [
    "# create dasboard to explain my work"
   ]
  },
  {
   "cell_type": "code",
   "execution_count": 31,
   "metadata": {},
   "outputs": [],
   "source": [
    "import dash\n",
    "from dash import html   #for dash layout\n",
    "from dash import dcc    #data control components"
   ]
  },
  {
   "cell_type": "code",
   "execution_count": 32,
   "metadata": {},
   "outputs": [],
   "source": [
    "from dash.dependencies import Input,Output,State"
   ]
  },
  {
   "cell_type": "code",
   "execution_count": 33,
   "metadata": {},
   "outputs": [],
   "source": [
    "import plotly.express as px"
   ]
  },
  {
   "cell_type": "code",
   "execution_count": 34,
   "metadata": {},
   "outputs": [],
   "source": [
    "my_css_link='https://codepen.io/chriddyp/pen/bWLwgP.css'"
   ]
  },
  {
   "cell_type": "code",
   "execution_count": 35,
   "metadata": {},
   "outputs": [],
   "source": [
    "app = dash.Dash( external_stylesheets=[my_css_link])"
   ]
  },
  {
   "cell_type": "code",
   "execution_count": 36,
   "metadata": {},
   "outputs": [],
   "source": [
    "#BANs\n",
    "Y_vals = X_full['Outcome'].value_counts()\n",
    "with_out_diap = Y_vals[0]\n",
    "with_dip = Y_vals[1]\n",
    "model_acu1 = np.round(LR_cv.best_score_,4)\n",
    "model_acu2 = np.round(svm_cv.best_score_,4)"
   ]
  },
  {
   "cell_type": "code",
   "execution_count": 37,
   "metadata": {},
   "outputs": [
    {
     "name": "stdout",
     "output_type": "stream",
     "text": [
      "['Pregnancies', 'Glucose', 'BloodPressure', 'SkinThickness', 'Insulin', 'BMI', 'DiabetesPedigreeFunction', 'Age', 'BMI_levels', 'Glucose_levels']\n"
     ]
    }
   ],
   "source": [
    "# columns names\n",
    "Variables = X.columns.to_list()\n",
    "print(Variables)"
   ]
  },
  {
   "cell_type": "code",
   "execution_count": 38,
   "metadata": {},
   "outputs": [],
   "source": [
    "#graph\n",
    "g= px.histogram(X_full,x= 'Pregnancies',color='Outcome',color_discrete_sequence=[\"red\", \"blue\"])\n",
    "#g.show()"
   ]
  },
  {
   "cell_type": "code",
   "execution_count": 39,
   "metadata": {},
   "outputs": [
    {
     "name": "stdout",
     "output_type": "stream",
     "text": [
      "                   features    values\n",
      "0               Pregnancies  0.186666\n",
      "1                   Glucose  0.491374\n",
      "2             BloodPressure -0.041400\n",
      "3             SkinThickness -0.011837\n",
      "4                   Insulin -0.065337\n",
      "5                       BMI  0.504495\n",
      "6  DiabetesPedigreeFunction  0.122654\n",
      "7                       Age  0.027750\n",
      "8                BMI_levels -0.187668\n",
      "9            Glucose_levels  0.458741\n"
     ]
    }
   ],
   "source": [
    "#feature importance for SVM\n",
    "\n",
    "SVM_coef,=svm_cv.best_estimator_.coef_\n",
    "\n",
    "SVM_fe_impor = {'features':Variables,'values':SVM_coef}\n",
    "SVM_fe_impor_df = pd.DataFrame(SVM_fe_impor)\n",
    "\n",
    "print(SVM_fe_impor_df)\n",
    "SVM_impor = px.bar(SVM_fe_impor_df,x='features',y='values',color_discrete_sequence=['gray'])"
   ]
  },
  {
   "cell_type": "code",
   "execution_count": 40,
   "metadata": {},
   "outputs": [
    {
     "name": "stdout",
     "output_type": "stream",
     "text": [
      "                   features    values\n",
      "0               Pregnancies  0.383182\n",
      "1                   Glucose  1.377049\n",
      "2             BloodPressure -0.063161\n",
      "3             SkinThickness  0.027609\n",
      "4                   Insulin -0.135163\n",
      "5                       BMI  0.953303\n",
      "6  DiabetesPedigreeFunction  0.247949\n",
      "7                       Age  0.139186\n",
      "8                BMI_levels -0.245938\n",
      "9            Glucose_levels -0.156500\n"
     ]
    }
   ],
   "source": [
    "#feature importance for LR\n",
    "\n",
    "LR_coef,=LR_cv.best_estimator_.coef_\n",
    "\n",
    "LR_fe_impor = {'features':Variables,'values':LR_coef}\n",
    "LR_fe_impor_df = pd.DataFrame(LR_fe_impor)\n",
    "\n",
    "print(LR_fe_impor_df)\n",
    "LR_impor = px.bar(LR_fe_impor_df,x='features',y='values',color_discrete_sequence=['gray'])"
   ]
  },
  {
   "cell_type": "code",
   "execution_count": 41,
   "metadata": {},
   "outputs": [],
   "source": [
    "app.layout =html.Div([ \n",
    "    #Introduction to the dataset and our work\n",
    "    html.H3('Comparison Between LogisticRegression and SVM on Diabetes Prediction(Only for females above 21 years of Age)', style={'textAlign': 'center'}),\n",
    "    html.P('''The dataset we will be using is PIMA Indian Diabetes Dataset which contains 8 prediction variables \n",
    "    and 1 target variable.''',style={'textAlign': 'center'}),\n",
    "    html.P(''' The predictor variable is named Outcome which is encoded as 0 and 1 \n",
    "    where 0 represents Non-Diabetic and 1 represents Diabetic.''',style={'textAlign': 'center'}),\n",
    "    #Big numbers section\n",
    "    html.Div([\n",
    "        html.Div([\n",
    "            html.H6('Samples with out Diabetes',style={'textAlign': 'center'}),\n",
    "            html.H4(with_out_diap,style={'textAlign': 'center','color':'blue'})\n",
    "        ],className=\"three columns\"),\n",
    "        html.Div([\n",
    "          html.H6('Samples with Diabetes',style={'textAlign': 'center'}),\n",
    "          html.H4(with_dip,style={'textAlign': 'center','color':'red'})  \n",
    "        ],className=\"three columns\"),\n",
    "        html.Div([\n",
    "           html.H6('Logistic Regression model accuracy',style={'textAlign': 'center'}),\n",
    "           html.H4(model_acu1,style={'textAlign': 'center','color':'gray'}) \n",
    "        ],className=\"three columns\"),\n",
    "        html.Div([\n",
    "           html.H6('SVM model accuracy',style={'textAlign': 'center'}),\n",
    "           html.H4(model_acu2,style={'textAlign': 'center','color':'gray'}) \n",
    "        ],className=\"three columns\")\n",
    "    ]),\n",
    "    #grahps Section\n",
    "    html.Div([\n",
    "        html.Div([\n",
    "            html.H6('Features Importance',style={'textAlign': 'center'}),\n",
    "            dcc.Graph(id='graph1'),\n",
    "            dcc.Dropdown(id='features_importance',\n",
    "                         options=[{'label':'SVM','value':'SVM'} ,{'label':'LogisticRegression','value':'LogisticRegression'}],\n",
    "                         value='SVM'\n",
    "                        )\n",
    "        ],className=\"four columns\"),\n",
    "        html.Div([\n",
    "            html.H6('Disturbution of each varible with respect to target variable',style={'textAlign': 'center'}),\n",
    "            dcc.Graph(id='graph2',figure=g),\n",
    "            dcc.Dropdown(id='features_distru',\n",
    "                         options=[{'label':i,'value':i} for i in Variables],\n",
    "                         value=Variables[1]\n",
    "                        )\n",
    " \n",
    "        ],className=\"four columns\"),\n",
    "        html.Div([\n",
    "            html.H6('Predict new sample using our LogisticRegression model',style={'textAlign': 'center'}),\n",
    "            \n",
    "            dcc.Input(id=\"Pregnancies\", type=\"number\", placeholder=\"Pregnancies\"),\n",
    "            dcc.Input(id=\"Glucose\", type=\"number\", placeholder=\"Glucose\"),\n",
    "            dcc.Input(id=\"BloodPressure\", type=\"number\", placeholder=\"BloodPressure\"),\n",
    "            dcc.Input(id=\"SkinThickness\", type=\"number\", placeholder=\"SkinThickness\"),\n",
    "            dcc.Input(id=\"Insulin\", type=\"number\", placeholder=\"Insulin\"),\n",
    "            dcc.Input(id=\"BMI\", type=\"number\", placeholder=\"BMI\"),\n",
    "            dcc.Input(id=\"DiabetesPedigreeFunction\", type=\"number\", placeholder=\"DiabetesPedigreeFunction\"),\n",
    "            dcc.Input(id=\"Age\", type=\"number\", placeholder=\"Age\"),\n",
    "            dcc.Input(id=\"BMI_levels\", type=\"number\", placeholder=\"BMI_levels\"),\n",
    "            dcc.Input(id=\"Glucose_levels\", type=\"number\", placeholder=\"Glucose_levels\"),\n",
    "        \n",
    "            dcc.Dropdown(id='predict',\n",
    "                         options=[{'label':'SVM','value':'SVM'} ,{'label':'LogisticRegression','value':'LogisticRegression'}],\n",
    "                         value='SVM',className='three columns'\n",
    "                        ),\n",
    "            html.Div(id='result',className='three columns')\n",
    "        ],className=\"four columns\")\n",
    "    ])\n",
    "#     ,\n",
    "#     html.Div([\n",
    "#         html.P('comment with link',style={'textAlign': 'left'})\n",
    "#     ])\n",
    "    \n",
    "    \n",
    "],className='row')"
   ]
  },
  {
   "cell_type": "code",
   "execution_count": 42,
   "metadata": {},
   "outputs": [],
   "source": [
    "@app.callback(\n",
    "        Output(component_id='graph2',component_property='figure'),\n",
    "        Input('features_distru', 'value')\n",
    ")\n",
    "def update_features_distru(feature):\n",
    "    return px.histogram(X_full,x= feature,color='Outcome',color_discrete_sequence=[\"red\", \"blue\"])"
   ]
  },
  {
   "cell_type": "code",
   "execution_count": 43,
   "metadata": {},
   "outputs": [],
   "source": [
    "@app.callback(\n",
    "        Output(component_id='graph1',component_property='figure'),\n",
    "        Input('features_importance', 'value')\n",
    ")\n",
    "def update_features_importance(Model_name):\n",
    "    if(Model_name=='SVM'):\n",
    "        return SVM_impor\n",
    "    else:\n",
    "        return LR_impor"
   ]
  },
  {
   "cell_type": "code",
   "execution_count": 44,
   "metadata": {},
   "outputs": [],
   "source": [
    "@app.callback(\n",
    "        Output(component_id='result',component_property='children'),\n",
    "        [Input('predict', 'value'),\n",
    "         Input('Pregnancies', 'value'),\n",
    "         Input('Glucose', 'value'),\n",
    "         Input('BloodPressure', 'value'),\n",
    "         Input('SkinThickness', 'value'),\n",
    "         Input('Insulin', 'value'),\n",
    "         Input('BMI', 'value'),\n",
    "         Input('DiabetesPedigreeFunction', 'value'),\n",
    "         Input('Age', 'value'),\n",
    "         Input('BMI_levels', 'value'),\n",
    "         Input('Glucose_levels', 'value')\n",
    "        ]\n",
    ")\n",
    "def predict(*inputlist):\n",
    "    if(inputlist[0]=='SVM'):\n",
    "        return 'Result: {}'.format(svm_cv.best_estimator_.predict(np.array(inputlist[1:]).reshape(1,-1)))\n",
    "    else:\n",
    "        return 'Result: {}'.format(LR_cv.best_estimator_.predict(np.array(inputlist[1:]).reshape(1,-1)))"
   ]
  },
  {
   "cell_type": "code",
   "execution_count": 45,
   "metadata": {},
   "outputs": [
    {
     "name": "stdout",
     "output_type": "stream",
     "text": [
      "Dash is running on http://127.0.0.1:8050/\n",
      "\n",
      " * Serving Flask app \"__main__\" (lazy loading)\n",
      " * Environment: production\n",
      "   WARNING: This is a development server. Do not use it in a production deployment.\n",
      "   Use a production WSGI server instead.\n",
      " * Debug mode: off\n"
     ]
    },
    {
     "name": "stderr",
     "output_type": "stream",
     "text": [
      " * Running on http://127.0.0.1:8050/ (Press CTRL+C to quit)\n",
      "127.0.0.1 - - [27/Oct/2021 02:49:41] \"\u001b[37mGET / HTTP/1.1\u001b[0m\" 200 -\n",
      "127.0.0.1 - - [27/Oct/2021 02:49:42] \"\u001b[37mGET /_dash-dependencies HTTP/1.1\u001b[0m\" 200 -\n",
      "127.0.0.1 - - [27/Oct/2021 02:49:42] \"\u001b[37mGET /_dash-layout HTTP/1.1\u001b[0m\" 200 -\n",
      "127.0.0.1 - - [27/Oct/2021 02:49:42] \"\u001b[37mGET /_dash-component-suites/dash/dcc/async-graph.js HTTP/1.1\u001b[0m\" 200 -\n",
      "127.0.0.1 - - [27/Oct/2021 02:49:42] \"\u001b[37mGET /_dash-component-suites/dash/dcc/async-dropdown.js HTTP/1.1\u001b[0m\" 200 -\n",
      "127.0.0.1 - - [27/Oct/2021 02:49:42] \"\u001b[37mGET /_dash-component-suites/dash/dcc/async-plotlyjs.js HTTP/1.1\u001b[0m\" 200 -\n",
      "127.0.0.1 - - [27/Oct/2021 02:49:42] \"\u001b[37mPOST /_dash-update-component HTTP/1.1\u001b[0m\" 200 -\n",
      "127.0.0.1 - - [27/Oct/2021 02:49:43] \"\u001b[37mPOST /_dash-update-component HTTP/1.1\u001b[0m\" 200 -\n"
     ]
    },
    {
     "name": "stdout",
     "output_type": "stream",
     "text": [
      "Exception on /_dash-update-component [POST]\n",
      "Traceback (most recent call last):\n",
      "  File \"C:\\Users\\Toqa\\anaconda3\\lib\\site-packages\\flask\\app.py\", line 2447, in wsgi_app\n",
      "    response = self.full_dispatch_request()\n",
      "  File \"C:\\Users\\Toqa\\anaconda3\\lib\\site-packages\\flask\\app.py\", line 1952, in full_dispatch_request\n",
      "    rv = self.handle_user_exception(e)\n",
      "  File \"C:\\Users\\Toqa\\anaconda3\\lib\\site-packages\\flask\\app.py\", line 1821, in handle_user_exception\n",
      "    reraise(exc_type, exc_value, tb)\n",
      "  File \"C:\\Users\\Toqa\\anaconda3\\lib\\site-packages\\flask\\_compat.py\", line 39, in reraise\n",
      "    raise value\n",
      "  File \"C:\\Users\\Toqa\\anaconda3\\lib\\site-packages\\flask\\app.py\", line 1950, in full_dispatch_request\n",
      "    rv = self.dispatch_request()\n",
      "  File \"C:\\Users\\Toqa\\anaconda3\\lib\\site-packages\\flask\\app.py\", line 1936, in dispatch_request\n",
      "    return self.view_functions[rule.endpoint](**req.view_args)\n",
      "  File \"C:\\Users\\Toqa\\anaconda3\\lib\\site-packages\\dash\\dash.py\", line 1336, in dispatch\n",
      "    response.set_data(func(*args, outputs_list=outputs_list))\n",
      "  File \"C:\\Users\\Toqa\\anaconda3\\lib\\site-packages\\dash\\_callback.py\", line 151, in add_context\n",
      "    output_value = func(*func_args, **func_kwargs)  # %% callback invoked %%\n",
      "  File \"<ipython-input-44-c2bf8aab2829>\", line 18, in predict\n",
      "    return 'Result: {}'.format(svm_cv.best_estimator_.predict(np.array(inputlist[1:]).reshape(1,-1)))\n",
      "  File \"C:\\Users\\Toqa\\anaconda3\\lib\\site-packages\\sklearn\\svm\\_base.py\", line 624, in predict\n",
      "    y = super().predict(X)\n",
      "  File \"C:\\Users\\Toqa\\anaconda3\\lib\\site-packages\\sklearn\\svm\\_base.py\", line 342, in predict\n",
      "    X = self._validate_for_predict(X)\n",
      "  File \"C:\\Users\\Toqa\\anaconda3\\lib\\site-packages\\sklearn\\svm\\_base.py\", line 474, in _validate_for_predict\n",
      "    X = check_array(X, accept_sparse='csr', dtype=np.float64,\n",
      "  File \"C:\\Users\\Toqa\\anaconda3\\lib\\site-packages\\sklearn\\utils\\validation.py\", line 63, in inner_f\n",
      "    return f(*args, **kwargs)\n",
      "  File \"C:\\Users\\Toqa\\anaconda3\\lib\\site-packages\\sklearn\\utils\\validation.py\", line 663, in check_array\n",
      "    _assert_all_finite(array,\n",
      "  File \"C:\\Users\\Toqa\\anaconda3\\lib\\site-packages\\sklearn\\utils\\validation.py\", line 103, in _assert_all_finite\n",
      "    raise ValueError(\n",
      "ValueError: Input contains NaN, infinity or a value too large for dtype('float64').\n"
     ]
    },
    {
     "name": "stderr",
     "output_type": "stream",
     "text": [
      "127.0.0.1 - - [27/Oct/2021 02:49:43] \"\u001b[35m\u001b[1mPOST /_dash-update-component HTTP/1.1\u001b[0m\" 500 -\n"
     ]
    },
    {
     "name": "stdout",
     "output_type": "stream",
     "text": [
      "Exception on /_dash-update-component [POST]\n",
      "Traceback (most recent call last):\n",
      "  File \"C:\\Users\\Toqa\\anaconda3\\lib\\site-packages\\flask\\app.py\", line 2447, in wsgi_app\n",
      "    response = self.full_dispatch_request()\n",
      "  File \"C:\\Users\\Toqa\\anaconda3\\lib\\site-packages\\flask\\app.py\", line 1952, in full_dispatch_request\n",
      "    rv = self.handle_user_exception(e)\n",
      "  File \"C:\\Users\\Toqa\\anaconda3\\lib\\site-packages\\flask\\app.py\", line 1821, in handle_user_exception\n",
      "    reraise(exc_type, exc_value, tb)\n",
      "  File \"C:\\Users\\Toqa\\anaconda3\\lib\\site-packages\\flask\\_compat.py\", line 39, in reraise\n",
      "    raise value\n",
      "  File \"C:\\Users\\Toqa\\anaconda3\\lib\\site-packages\\flask\\app.py\", line 1950, in full_dispatch_request\n",
      "    rv = self.dispatch_request()\n",
      "  File \"C:\\Users\\Toqa\\anaconda3\\lib\\site-packages\\flask\\app.py\", line 1936, in dispatch_request\n",
      "    return self.view_functions[rule.endpoint](**req.view_args)\n",
      "  File \"C:\\Users\\Toqa\\anaconda3\\lib\\site-packages\\dash\\dash.py\", line 1336, in dispatch\n",
      "    response.set_data(func(*args, outputs_list=outputs_list))\n",
      "  File \"C:\\Users\\Toqa\\anaconda3\\lib\\site-packages\\dash\\_callback.py\", line 151, in add_context\n",
      "    output_value = func(*func_args, **func_kwargs)  # %% callback invoked %%\n",
      "  File \"<ipython-input-44-c2bf8aab2829>\", line 18, in predict\n",
      "    return 'Result: {}'.format(svm_cv.best_estimator_.predict(np.array(inputlist[1:]).reshape(1,-1)))\n",
      "  File \"C:\\Users\\Toqa\\anaconda3\\lib\\site-packages\\sklearn\\svm\\_base.py\", line 624, in predict\n",
      "    y = super().predict(X)\n",
      "  File \"C:\\Users\\Toqa\\anaconda3\\lib\\site-packages\\sklearn\\svm\\_base.py\", line 342, in predict\n",
      "    X = self._validate_for_predict(X)\n",
      "  File \"C:\\Users\\Toqa\\anaconda3\\lib\\site-packages\\sklearn\\svm\\_base.py\", line 474, in _validate_for_predict\n",
      "    X = check_array(X, accept_sparse='csr', dtype=np.float64,\n",
      "  File \"C:\\Users\\Toqa\\anaconda3\\lib\\site-packages\\sklearn\\utils\\validation.py\", line 63, in inner_f\n",
      "    return f(*args, **kwargs)\n",
      "  File \"C:\\Users\\Toqa\\anaconda3\\lib\\site-packages\\sklearn\\utils\\validation.py\", line 663, in check_array\n",
      "    _assert_all_finite(array,\n",
      "  File \"C:\\Users\\Toqa\\anaconda3\\lib\\site-packages\\sklearn\\utils\\validation.py\", line 103, in _assert_all_finite\n",
      "    raise ValueError(\n",
      "ValueError: Input contains NaN, infinity or a value too large for dtype('float64').\n"
     ]
    },
    {
     "name": "stderr",
     "output_type": "stream",
     "text": [
      "127.0.0.1 - - [27/Oct/2021 02:49:46] \"\u001b[35m\u001b[1mPOST /_dash-update-component HTTP/1.1\u001b[0m\" 500 -\n"
     ]
    },
    {
     "name": "stdout",
     "output_type": "stream",
     "text": [
      "Exception on /_dash-update-component [POST]\n",
      "Traceback (most recent call last):\n",
      "  File \"C:\\Users\\Toqa\\anaconda3\\lib\\site-packages\\flask\\app.py\", line 2447, in wsgi_app\n",
      "    response = self.full_dispatch_request()\n",
      "  File \"C:\\Users\\Toqa\\anaconda3\\lib\\site-packages\\flask\\app.py\", line 1952, in full_dispatch_request\n",
      "    rv = self.handle_user_exception(e)\n",
      "  File \"C:\\Users\\Toqa\\anaconda3\\lib\\site-packages\\flask\\app.py\", line 1821, in handle_user_exception\n",
      "    reraise(exc_type, exc_value, tb)\n",
      "  File \"C:\\Users\\Toqa\\anaconda3\\lib\\site-packages\\flask\\_compat.py\", line 39, in reraise\n",
      "    raise value\n",
      "  File \"C:\\Users\\Toqa\\anaconda3\\lib\\site-packages\\flask\\app.py\", line 1950, in full_dispatch_request\n",
      "    rv = self.dispatch_request()\n",
      "  File \"C:\\Users\\Toqa\\anaconda3\\lib\\site-packages\\flask\\app.py\", line 1936, in dispatch_request\n",
      "    return self.view_functions[rule.endpoint](**req.view_args)\n",
      "  File \"C:\\Users\\Toqa\\anaconda3\\lib\\site-packages\\dash\\dash.py\", line 1336, in dispatch\n",
      "    response.set_data(func(*args, outputs_list=outputs_list))\n",
      "  File \"C:\\Users\\Toqa\\anaconda3\\lib\\site-packages\\dash\\_callback.py\", line 151, in add_context\n",
      "    output_value = func(*func_args, **func_kwargs)  # %% callback invoked %%\n",
      "  File \"<ipython-input-44-c2bf8aab2829>\", line 18, in predict\n",
      "    return 'Result: {}'.format(svm_cv.best_estimator_.predict(np.array(inputlist[1:]).reshape(1,-1)))\n",
      "  File \"C:\\Users\\Toqa\\anaconda3\\lib\\site-packages\\sklearn\\svm\\_base.py\", line 624, in predict\n",
      "    y = super().predict(X)\n",
      "  File \"C:\\Users\\Toqa\\anaconda3\\lib\\site-packages\\sklearn\\svm\\_base.py\", line 342, in predict\n",
      "    X = self._validate_for_predict(X)\n",
      "  File \"C:\\Users\\Toqa\\anaconda3\\lib\\site-packages\\sklearn\\svm\\_base.py\", line 474, in _validate_for_predict\n",
      "    X = check_array(X, accept_sparse='csr', dtype=np.float64,\n",
      "  File \"C:\\Users\\Toqa\\anaconda3\\lib\\site-packages\\sklearn\\utils\\validation.py\", line 63, in inner_f\n",
      "    return f(*args, **kwargs)\n",
      "  File \"C:\\Users\\Toqa\\anaconda3\\lib\\site-packages\\sklearn\\utils\\validation.py\", line 663, in check_array\n",
      "    _assert_all_finite(array,\n",
      "  File \"C:\\Users\\Toqa\\anaconda3\\lib\\site-packages\\sklearn\\utils\\validation.py\", line 103, in _assert_all_finite\n",
      "    raise ValueError(\n",
      "ValueError: Input contains NaN, infinity or a value too large for dtype('float64').\n"
     ]
    },
    {
     "name": "stderr",
     "output_type": "stream",
     "text": [
      "127.0.0.1 - - [27/Oct/2021 02:49:49] \"\u001b[35m\u001b[1mPOST /_dash-update-component HTTP/1.1\u001b[0m\" 500 -\n"
     ]
    },
    {
     "name": "stdout",
     "output_type": "stream",
     "text": [
      "Exception on /_dash-update-component [POST]\n",
      "Traceback (most recent call last):\n",
      "  File \"C:\\Users\\Toqa\\anaconda3\\lib\\site-packages\\flask\\app.py\", line 2447, in wsgi_app\n",
      "    response = self.full_dispatch_request()\n",
      "  File \"C:\\Users\\Toqa\\anaconda3\\lib\\site-packages\\flask\\app.py\", line 1952, in full_dispatch_request\n",
      "    rv = self.handle_user_exception(e)\n",
      "  File \"C:\\Users\\Toqa\\anaconda3\\lib\\site-packages\\flask\\app.py\", line 1821, in handle_user_exception\n",
      "    reraise(exc_type, exc_value, tb)\n",
      "  File \"C:\\Users\\Toqa\\anaconda3\\lib\\site-packages\\flask\\_compat.py\", line 39, in reraise\n",
      "    raise value\n",
      "  File \"C:\\Users\\Toqa\\anaconda3\\lib\\site-packages\\flask\\app.py\", line 1950, in full_dispatch_request\n",
      "    rv = self.dispatch_request()\n",
      "  File \"C:\\Users\\Toqa\\anaconda3\\lib\\site-packages\\flask\\app.py\", line 1936, in dispatch_request\n",
      "    return self.view_functions[rule.endpoint](**req.view_args)\n",
      "  File \"C:\\Users\\Toqa\\anaconda3\\lib\\site-packages\\dash\\dash.py\", line 1336, in dispatch\n",
      "    response.set_data(func(*args, outputs_list=outputs_list))\n",
      "  File \"C:\\Users\\Toqa\\anaconda3\\lib\\site-packages\\dash\\_callback.py\", line 151, in add_context\n",
      "    output_value = func(*func_args, **func_kwargs)  # %% callback invoked %%\n",
      "  File \"<ipython-input-44-c2bf8aab2829>\", line 18, in predict\n",
      "    return 'Result: {}'.format(svm_cv.best_estimator_.predict(np.array(inputlist[1:]).reshape(1,-1)))\n",
      "  File \"C:\\Users\\Toqa\\anaconda3\\lib\\site-packages\\sklearn\\svm\\_base.py\", line 624, in predict\n",
      "    y = super().predict(X)\n",
      "  File \"C:\\Users\\Toqa\\anaconda3\\lib\\site-packages\\sklearn\\svm\\_base.py\", line 342, in predict\n",
      "    X = self._validate_for_predict(X)\n",
      "  File \"C:\\Users\\Toqa\\anaconda3\\lib\\site-packages\\sklearn\\svm\\_base.py\", line 474, in _validate_for_predict\n",
      "    X = check_array(X, accept_sparse='csr', dtype=np.float64,\n",
      "  File \"C:\\Users\\Toqa\\anaconda3\\lib\\site-packages\\sklearn\\utils\\validation.py\", line 63, in inner_f\n",
      "    return f(*args, **kwargs)\n",
      "  File \"C:\\Users\\Toqa\\anaconda3\\lib\\site-packages\\sklearn\\utils\\validation.py\", line 663, in check_array\n",
      "    _assert_all_finite(array,\n",
      "  File \"C:\\Users\\Toqa\\anaconda3\\lib\\site-packages\\sklearn\\utils\\validation.py\", line 103, in _assert_all_finite\n",
      "    raise ValueError(\n",
      "ValueError: Input contains NaN, infinity or a value too large for dtype('float64').\n"
     ]
    },
    {
     "name": "stderr",
     "output_type": "stream",
     "text": [
      "127.0.0.1 - - [27/Oct/2021 02:49:51] \"\u001b[35m\u001b[1mPOST /_dash-update-component HTTP/1.1\u001b[0m\" 500 -\n"
     ]
    },
    {
     "name": "stdout",
     "output_type": "stream",
     "text": [
      "Exception on /_dash-update-component [POST]\n",
      "Traceback (most recent call last):\n",
      "  File \"C:\\Users\\Toqa\\anaconda3\\lib\\site-packages\\flask\\app.py\", line 2447, in wsgi_app\n",
      "    response = self.full_dispatch_request()\n",
      "  File \"C:\\Users\\Toqa\\anaconda3\\lib\\site-packages\\flask\\app.py\", line 1952, in full_dispatch_request\n",
      "    rv = self.handle_user_exception(e)\n",
      "  File \"C:\\Users\\Toqa\\anaconda3\\lib\\site-packages\\flask\\app.py\", line 1821, in handle_user_exception\n",
      "    reraise(exc_type, exc_value, tb)\n",
      "  File \"C:\\Users\\Toqa\\anaconda3\\lib\\site-packages\\flask\\_compat.py\", line 39, in reraise\n",
      "    raise value\n",
      "  File \"C:\\Users\\Toqa\\anaconda3\\lib\\site-packages\\flask\\app.py\", line 1950, in full_dispatch_request\n",
      "    rv = self.dispatch_request()\n",
      "  File \"C:\\Users\\Toqa\\anaconda3\\lib\\site-packages\\flask\\app.py\", line 1936, in dispatch_request\n",
      "    return self.view_functions[rule.endpoint](**req.view_args)\n",
      "  File \"C:\\Users\\Toqa\\anaconda3\\lib\\site-packages\\dash\\dash.py\", line 1336, in dispatch\n",
      "    response.set_data(func(*args, outputs_list=outputs_list))\n",
      "  File \"C:\\Users\\Toqa\\anaconda3\\lib\\site-packages\\dash\\_callback.py\", line 151, in add_context\n",
      "    output_value = func(*func_args, **func_kwargs)  # %% callback invoked %%\n",
      "  File \"<ipython-input-44-c2bf8aab2829>\", line 18, in predict\n",
      "    return 'Result: {}'.format(svm_cv.best_estimator_.predict(np.array(inputlist[1:]).reshape(1,-1)))\n",
      "  File \"C:\\Users\\Toqa\\anaconda3\\lib\\site-packages\\sklearn\\svm\\_base.py\", line 624, in predict\n",
      "    y = super().predict(X)\n",
      "  File \"C:\\Users\\Toqa\\anaconda3\\lib\\site-packages\\sklearn\\svm\\_base.py\", line 342, in predict\n",
      "    X = self._validate_for_predict(X)\n",
      "  File \"C:\\Users\\Toqa\\anaconda3\\lib\\site-packages\\sklearn\\svm\\_base.py\", line 474, in _validate_for_predict\n",
      "    X = check_array(X, accept_sparse='csr', dtype=np.float64,\n",
      "  File \"C:\\Users\\Toqa\\anaconda3\\lib\\site-packages\\sklearn\\utils\\validation.py\", line 63, in inner_f\n",
      "    return f(*args, **kwargs)\n",
      "  File \"C:\\Users\\Toqa\\anaconda3\\lib\\site-packages\\sklearn\\utils\\validation.py\", line 663, in check_array\n",
      "    _assert_all_finite(array,\n",
      "  File \"C:\\Users\\Toqa\\anaconda3\\lib\\site-packages\\sklearn\\utils\\validation.py\", line 103, in _assert_all_finite\n",
      "    raise ValueError(\n",
      "ValueError: Input contains NaN, infinity or a value too large for dtype('float64').\n"
     ]
    },
    {
     "name": "stderr",
     "output_type": "stream",
     "text": [
      "127.0.0.1 - - [27/Oct/2021 02:49:53] \"\u001b[35m\u001b[1mPOST /_dash-update-component HTTP/1.1\u001b[0m\" 500 -\n"
     ]
    },
    {
     "name": "stdout",
     "output_type": "stream",
     "text": [
      "Exception on /_dash-update-component [POST]\n",
      "Traceback (most recent call last):\n",
      "  File \"C:\\Users\\Toqa\\anaconda3\\lib\\site-packages\\flask\\app.py\", line 2447, in wsgi_app\n",
      "    response = self.full_dispatch_request()\n",
      "  File \"C:\\Users\\Toqa\\anaconda3\\lib\\site-packages\\flask\\app.py\", line 1952, in full_dispatch_request\n",
      "    rv = self.handle_user_exception(e)\n",
      "  File \"C:\\Users\\Toqa\\anaconda3\\lib\\site-packages\\flask\\app.py\", line 1821, in handle_user_exception\n",
      "    reraise(exc_type, exc_value, tb)\n",
      "  File \"C:\\Users\\Toqa\\anaconda3\\lib\\site-packages\\flask\\_compat.py\", line 39, in reraise\n",
      "    raise value\n",
      "  File \"C:\\Users\\Toqa\\anaconda3\\lib\\site-packages\\flask\\app.py\", line 1950, in full_dispatch_request\n",
      "    rv = self.dispatch_request()\n",
      "  File \"C:\\Users\\Toqa\\anaconda3\\lib\\site-packages\\flask\\app.py\", line 1936, in dispatch_request\n",
      "    return self.view_functions[rule.endpoint](**req.view_args)\n",
      "  File \"C:\\Users\\Toqa\\anaconda3\\lib\\site-packages\\dash\\dash.py\", line 1336, in dispatch\n",
      "    response.set_data(func(*args, outputs_list=outputs_list))\n",
      "  File \"C:\\Users\\Toqa\\anaconda3\\lib\\site-packages\\dash\\_callback.py\", line 151, in add_context\n",
      "    output_value = func(*func_args, **func_kwargs)  # %% callback invoked %%\n",
      "  File \"<ipython-input-44-c2bf8aab2829>\", line 18, in predict\n",
      "    return 'Result: {}'.format(svm_cv.best_estimator_.predict(np.array(inputlist[1:]).reshape(1,-1)))\n",
      "  File \"C:\\Users\\Toqa\\anaconda3\\lib\\site-packages\\sklearn\\svm\\_base.py\", line 624, in predict\n",
      "    y = super().predict(X)\n",
      "  File \"C:\\Users\\Toqa\\anaconda3\\lib\\site-packages\\sklearn\\svm\\_base.py\", line 342, in predict\n",
      "    X = self._validate_for_predict(X)\n",
      "  File \"C:\\Users\\Toqa\\anaconda3\\lib\\site-packages\\sklearn\\svm\\_base.py\", line 474, in _validate_for_predict\n",
      "    X = check_array(X, accept_sparse='csr', dtype=np.float64,\n",
      "  File \"C:\\Users\\Toqa\\anaconda3\\lib\\site-packages\\sklearn\\utils\\validation.py\", line 63, in inner_f\n",
      "    return f(*args, **kwargs)\n",
      "  File \"C:\\Users\\Toqa\\anaconda3\\lib\\site-packages\\sklearn\\utils\\validation.py\", line 663, in check_array\n",
      "    _assert_all_finite(array,\n",
      "  File \"C:\\Users\\Toqa\\anaconda3\\lib\\site-packages\\sklearn\\utils\\validation.py\", line 103, in _assert_all_finite\n",
      "    raise ValueError(\n",
      "ValueError: Input contains NaN, infinity or a value too large for dtype('float64').\n"
     ]
    },
    {
     "name": "stderr",
     "output_type": "stream",
     "text": [
      "127.0.0.1 - - [27/Oct/2021 02:49:55] \"\u001b[35m\u001b[1mPOST /_dash-update-component HTTP/1.1\u001b[0m\" 500 -\n"
     ]
    },
    {
     "name": "stdout",
     "output_type": "stream",
     "text": [
      "Exception on /_dash-update-component [POST]\n",
      "Traceback (most recent call last):\n",
      "  File \"C:\\Users\\Toqa\\anaconda3\\lib\\site-packages\\flask\\app.py\", line 2447, in wsgi_app\n",
      "    response = self.full_dispatch_request()\n",
      "  File \"C:\\Users\\Toqa\\anaconda3\\lib\\site-packages\\flask\\app.py\", line 1952, in full_dispatch_request\n",
      "    rv = self.handle_user_exception(e)\n",
      "  File \"C:\\Users\\Toqa\\anaconda3\\lib\\site-packages\\flask\\app.py\", line 1821, in handle_user_exception\n",
      "    reraise(exc_type, exc_value, tb)\n",
      "  File \"C:\\Users\\Toqa\\anaconda3\\lib\\site-packages\\flask\\_compat.py\", line 39, in reraise\n",
      "    raise value\n",
      "  File \"C:\\Users\\Toqa\\anaconda3\\lib\\site-packages\\flask\\app.py\", line 1950, in full_dispatch_request\n",
      "    rv = self.dispatch_request()\n",
      "  File \"C:\\Users\\Toqa\\anaconda3\\lib\\site-packages\\flask\\app.py\", line 1936, in dispatch_request\n",
      "    return self.view_functions[rule.endpoint](**req.view_args)\n",
      "  File \"C:\\Users\\Toqa\\anaconda3\\lib\\site-packages\\dash\\dash.py\", line 1336, in dispatch\n",
      "    response.set_data(func(*args, outputs_list=outputs_list))\n",
      "  File \"C:\\Users\\Toqa\\anaconda3\\lib\\site-packages\\dash\\_callback.py\", line 151, in add_context\n",
      "    output_value = func(*func_args, **func_kwargs)  # %% callback invoked %%\n",
      "  File \"<ipython-input-44-c2bf8aab2829>\", line 18, in predict\n",
      "    return 'Result: {}'.format(svm_cv.best_estimator_.predict(np.array(inputlist[1:]).reshape(1,-1)))\n",
      "  File \"C:\\Users\\Toqa\\anaconda3\\lib\\site-packages\\sklearn\\svm\\_base.py\", line 624, in predict\n",
      "    y = super().predict(X)\n",
      "  File \"C:\\Users\\Toqa\\anaconda3\\lib\\site-packages\\sklearn\\svm\\_base.py\", line 342, in predict\n",
      "    X = self._validate_for_predict(X)\n",
      "  File \"C:\\Users\\Toqa\\anaconda3\\lib\\site-packages\\sklearn\\svm\\_base.py\", line 474, in _validate_for_predict\n",
      "    X = check_array(X, accept_sparse='csr', dtype=np.float64,\n",
      "  File \"C:\\Users\\Toqa\\anaconda3\\lib\\site-packages\\sklearn\\utils\\validation.py\", line 63, in inner_f\n",
      "    return f(*args, **kwargs)\n",
      "  File \"C:\\Users\\Toqa\\anaconda3\\lib\\site-packages\\sklearn\\utils\\validation.py\", line 663, in check_array\n",
      "    _assert_all_finite(array,\n",
      "  File \"C:\\Users\\Toqa\\anaconda3\\lib\\site-packages\\sklearn\\utils\\validation.py\", line 103, in _assert_all_finite\n",
      "    raise ValueError(\n",
      "ValueError: Input contains NaN, infinity or a value too large for dtype('float64').\n"
     ]
    },
    {
     "name": "stderr",
     "output_type": "stream",
     "text": [
      "127.0.0.1 - - [27/Oct/2021 02:49:57] \"\u001b[35m\u001b[1mPOST /_dash-update-component HTTP/1.1\u001b[0m\" 500 -\n"
     ]
    },
    {
     "name": "stdout",
     "output_type": "stream",
     "text": [
      "Exception on /_dash-update-component [POST]\n",
      "Traceback (most recent call last):\n",
      "  File \"C:\\Users\\Toqa\\anaconda3\\lib\\site-packages\\flask\\app.py\", line 2447, in wsgi_app\n",
      "    response = self.full_dispatch_request()\n",
      "  File \"C:\\Users\\Toqa\\anaconda3\\lib\\site-packages\\flask\\app.py\", line 1952, in full_dispatch_request\n",
      "    rv = self.handle_user_exception(e)\n",
      "  File \"C:\\Users\\Toqa\\anaconda3\\lib\\site-packages\\flask\\app.py\", line 1821, in handle_user_exception\n",
      "    reraise(exc_type, exc_value, tb)\n",
      "  File \"C:\\Users\\Toqa\\anaconda3\\lib\\site-packages\\flask\\_compat.py\", line 39, in reraise\n",
      "    raise value\n",
      "  File \"C:\\Users\\Toqa\\anaconda3\\lib\\site-packages\\flask\\app.py\", line 1950, in full_dispatch_request\n",
      "    rv = self.dispatch_request()\n",
      "  File \"C:\\Users\\Toqa\\anaconda3\\lib\\site-packages\\flask\\app.py\", line 1936, in dispatch_request\n",
      "    return self.view_functions[rule.endpoint](**req.view_args)\n",
      "  File \"C:\\Users\\Toqa\\anaconda3\\lib\\site-packages\\dash\\dash.py\", line 1336, in dispatch\n",
      "    response.set_data(func(*args, outputs_list=outputs_list))\n",
      "  File \"C:\\Users\\Toqa\\anaconda3\\lib\\site-packages\\dash\\_callback.py\", line 151, in add_context\n",
      "    output_value = func(*func_args, **func_kwargs)  # %% callback invoked %%\n",
      "  File \"<ipython-input-44-c2bf8aab2829>\", line 18, in predict\n",
      "    return 'Result: {}'.format(svm_cv.best_estimator_.predict(np.array(inputlist[1:]).reshape(1,-1)))\n",
      "  File \"C:\\Users\\Toqa\\anaconda3\\lib\\site-packages\\sklearn\\svm\\_base.py\", line 624, in predict\n",
      "    y = super().predict(X)\n",
      "  File \"C:\\Users\\Toqa\\anaconda3\\lib\\site-packages\\sklearn\\svm\\_base.py\", line 342, in predict\n",
      "    X = self._validate_for_predict(X)\n",
      "  File \"C:\\Users\\Toqa\\anaconda3\\lib\\site-packages\\sklearn\\svm\\_base.py\", line 474, in _validate_for_predict\n",
      "    X = check_array(X, accept_sparse='csr', dtype=np.float64,\n",
      "  File \"C:\\Users\\Toqa\\anaconda3\\lib\\site-packages\\sklearn\\utils\\validation.py\", line 63, in inner_f\n",
      "    return f(*args, **kwargs)\n",
      "  File \"C:\\Users\\Toqa\\anaconda3\\lib\\site-packages\\sklearn\\utils\\validation.py\", line 663, in check_array\n",
      "    _assert_all_finite(array,\n",
      "  File \"C:\\Users\\Toqa\\anaconda3\\lib\\site-packages\\sklearn\\utils\\validation.py\", line 103, in _assert_all_finite\n",
      "    raise ValueError(\n",
      "ValueError: Input contains NaN, infinity or a value too large for dtype('float64').\n"
     ]
    },
    {
     "name": "stderr",
     "output_type": "stream",
     "text": [
      "127.0.0.1 - - [27/Oct/2021 02:49:59] \"\u001b[35m\u001b[1mPOST /_dash-update-component HTTP/1.1\u001b[0m\" 500 -\n"
     ]
    },
    {
     "name": "stdout",
     "output_type": "stream",
     "text": [
      "Exception on /_dash-update-component [POST]\n",
      "Traceback (most recent call last):\n",
      "  File \"C:\\Users\\Toqa\\anaconda3\\lib\\site-packages\\flask\\app.py\", line 2447, in wsgi_app\n",
      "    response = self.full_dispatch_request()\n",
      "  File \"C:\\Users\\Toqa\\anaconda3\\lib\\site-packages\\flask\\app.py\", line 1952, in full_dispatch_request\n",
      "    rv = self.handle_user_exception(e)\n",
      "  File \"C:\\Users\\Toqa\\anaconda3\\lib\\site-packages\\flask\\app.py\", line 1821, in handle_user_exception\n",
      "    reraise(exc_type, exc_value, tb)\n",
      "  File \"C:\\Users\\Toqa\\anaconda3\\lib\\site-packages\\flask\\_compat.py\", line 39, in reraise\n",
      "    raise value\n",
      "  File \"C:\\Users\\Toqa\\anaconda3\\lib\\site-packages\\flask\\app.py\", line 1950, in full_dispatch_request\n",
      "    rv = self.dispatch_request()\n",
      "  File \"C:\\Users\\Toqa\\anaconda3\\lib\\site-packages\\flask\\app.py\", line 1936, in dispatch_request\n",
      "    return self.view_functions[rule.endpoint](**req.view_args)\n",
      "  File \"C:\\Users\\Toqa\\anaconda3\\lib\\site-packages\\dash\\dash.py\", line 1336, in dispatch\n",
      "    response.set_data(func(*args, outputs_list=outputs_list))\n",
      "  File \"C:\\Users\\Toqa\\anaconda3\\lib\\site-packages\\dash\\_callback.py\", line 151, in add_context\n",
      "    output_value = func(*func_args, **func_kwargs)  # %% callback invoked %%\n",
      "  File \"<ipython-input-44-c2bf8aab2829>\", line 18, in predict\n",
      "    return 'Result: {}'.format(svm_cv.best_estimator_.predict(np.array(inputlist[1:]).reshape(1,-1)))\n",
      "  File \"C:\\Users\\Toqa\\anaconda3\\lib\\site-packages\\sklearn\\svm\\_base.py\", line 624, in predict\n",
      "    y = super().predict(X)\n",
      "  File \"C:\\Users\\Toqa\\anaconda3\\lib\\site-packages\\sklearn\\svm\\_base.py\", line 342, in predict\n",
      "    X = self._validate_for_predict(X)\n",
      "  File \"C:\\Users\\Toqa\\anaconda3\\lib\\site-packages\\sklearn\\svm\\_base.py\", line 474, in _validate_for_predict\n",
      "    X = check_array(X, accept_sparse='csr', dtype=np.float64,\n",
      "  File \"C:\\Users\\Toqa\\anaconda3\\lib\\site-packages\\sklearn\\utils\\validation.py\", line 63, in inner_f\n",
      "    return f(*args, **kwargs)\n",
      "  File \"C:\\Users\\Toqa\\anaconda3\\lib\\site-packages\\sklearn\\utils\\validation.py\", line 663, in check_array\n",
      "    _assert_all_finite(array,\n",
      "  File \"C:\\Users\\Toqa\\anaconda3\\lib\\site-packages\\sklearn\\utils\\validation.py\", line 103, in _assert_all_finite\n",
      "    raise ValueError(\n",
      "ValueError: Input contains NaN, infinity or a value too large for dtype('float64').\n"
     ]
    },
    {
     "name": "stderr",
     "output_type": "stream",
     "text": [
      "127.0.0.1 - - [27/Oct/2021 02:50:01] \"\u001b[35m\u001b[1mPOST /_dash-update-component HTTP/1.1\u001b[0m\" 500 -\n"
     ]
    },
    {
     "name": "stdout",
     "output_type": "stream",
     "text": [
      "Exception on /_dash-update-component [POST]\n",
      "Traceback (most recent call last):\n",
      "  File \"C:\\Users\\Toqa\\anaconda3\\lib\\site-packages\\flask\\app.py\", line 2447, in wsgi_app\n",
      "    response = self.full_dispatch_request()\n",
      "  File \"C:\\Users\\Toqa\\anaconda3\\lib\\site-packages\\flask\\app.py\", line 1952, in full_dispatch_request\n",
      "    rv = self.handle_user_exception(e)\n",
      "  File \"C:\\Users\\Toqa\\anaconda3\\lib\\site-packages\\flask\\app.py\", line 1821, in handle_user_exception\n",
      "    reraise(exc_type, exc_value, tb)\n",
      "  File \"C:\\Users\\Toqa\\anaconda3\\lib\\site-packages\\flask\\_compat.py\", line 39, in reraise\n",
      "    raise value\n",
      "  File \"C:\\Users\\Toqa\\anaconda3\\lib\\site-packages\\flask\\app.py\", line 1950, in full_dispatch_request\n",
      "    rv = self.dispatch_request()\n",
      "  File \"C:\\Users\\Toqa\\anaconda3\\lib\\site-packages\\flask\\app.py\", line 1936, in dispatch_request\n",
      "    return self.view_functions[rule.endpoint](**req.view_args)\n",
      "  File \"C:\\Users\\Toqa\\anaconda3\\lib\\site-packages\\dash\\dash.py\", line 1336, in dispatch\n",
      "    response.set_data(func(*args, outputs_list=outputs_list))\n",
      "  File \"C:\\Users\\Toqa\\anaconda3\\lib\\site-packages\\dash\\_callback.py\", line 151, in add_context\n",
      "    output_value = func(*func_args, **func_kwargs)  # %% callback invoked %%\n",
      "  File \"<ipython-input-44-c2bf8aab2829>\", line 18, in predict\n",
      "    return 'Result: {}'.format(svm_cv.best_estimator_.predict(np.array(inputlist[1:]).reshape(1,-1)))\n",
      "  File \"C:\\Users\\Toqa\\anaconda3\\lib\\site-packages\\sklearn\\svm\\_base.py\", line 624, in predict\n",
      "    y = super().predict(X)\n",
      "  File \"C:\\Users\\Toqa\\anaconda3\\lib\\site-packages\\sklearn\\svm\\_base.py\", line 342, in predict\n",
      "    X = self._validate_for_predict(X)\n",
      "  File \"C:\\Users\\Toqa\\anaconda3\\lib\\site-packages\\sklearn\\svm\\_base.py\", line 474, in _validate_for_predict\n",
      "    X = check_array(X, accept_sparse='csr', dtype=np.float64,\n",
      "  File \"C:\\Users\\Toqa\\anaconda3\\lib\\site-packages\\sklearn\\utils\\validation.py\", line 63, in inner_f\n",
      "    return f(*args, **kwargs)\n",
      "  File \"C:\\Users\\Toqa\\anaconda3\\lib\\site-packages\\sklearn\\utils\\validation.py\", line 663, in check_array\n",
      "    _assert_all_finite(array,\n",
      "  File \"C:\\Users\\Toqa\\anaconda3\\lib\\site-packages\\sklearn\\utils\\validation.py\", line 103, in _assert_all_finite\n",
      "    raise ValueError(\n",
      "ValueError: Input contains NaN, infinity or a value too large for dtype('float64').\n"
     ]
    },
    {
     "name": "stderr",
     "output_type": "stream",
     "text": [
      "127.0.0.1 - - [27/Oct/2021 02:50:02] \"\u001b[35m\u001b[1mPOST /_dash-update-component HTTP/1.1\u001b[0m\" 500 -\n",
      "127.0.0.1 - - [27/Oct/2021 02:50:04] \"\u001b[37mPOST /_dash-update-component HTTP/1.1\u001b[0m\" 200 -\n",
      "127.0.0.1 - - [27/Oct/2021 02:50:09] \"\u001b[37mPOST /_dash-update-component HTTP/1.1\u001b[0m\" 200 -\n"
     ]
    }
   ],
   "source": [
    "app.run_server()"
   ]
  },
  {
   "cell_type": "code",
   "execution_count": null,
   "metadata": {},
   "outputs": [],
   "source": []
  }
 ],
 "metadata": {
  "kernelspec": {
   "display_name": "Python 3",
   "language": "python",
   "name": "python3"
  },
  "language_info": {
   "codemirror_mode": {
    "name": "ipython",
    "version": 3
   },
   "file_extension": ".py",
   "mimetype": "text/x-python",
   "name": "python",
   "nbconvert_exporter": "python",
   "pygments_lexer": "ipython3",
   "version": "3.8.8"
  }
 },
 "nbformat": 4,
 "nbformat_minor": 4
}
